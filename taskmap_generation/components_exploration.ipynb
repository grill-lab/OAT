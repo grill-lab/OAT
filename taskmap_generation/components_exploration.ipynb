{
 "cells": [
  {
   "cell_type": "code",
   "execution_count": null,
   "id": "dcf6feb5-6004-4765-9354-435e953926a2",
   "metadata": {
    "pycharm": {
     "name": "#%%\n"
    }
   },
   "outputs": [],
   "source": [
    "import sys\n",
    "import grpc\n",
    "import os\n",
    "\n",
    "from qa_pb2_grpc import QuestionAnsweringStub, TaskQuestionAnsweringStub\n",
    "from qa_pb2 import QAQuery, QARequest, QAResponse, DocumentList\n",
    "\n",
    "from searcher_pb2 import SearchQuery\n",
    "from searcher_pb2_grpc import SearcherStub\n",
    "\n",
    "sys.path.append(\"/shared/\")\n",
    "sys.path.append(\"/shared/compiled_protobufs\")\n",
    "\n",
    "channel_neural = grpc.insecure_channel(os.environ.get(\"NEURAL_FUNCTIONALITIES_URL\"))\n",
    "channel_func = grpc.insecure_channel(os.environ.get(\"FUNCTIONALITIES_URL\"))"
   ]
  },
  {
   "cell_type": "code",
   "execution_count": null,
   "outputs": [],
   "source": [
    "general_qa_stub = QuestionAnsweringStub(channel_neural)\n",
    "\n",
    "qa_request: QARequest = QARequest()\n",
    "qa_request.query.text = \"What is your favourite ice-cream flavour?\"\n",
    "\n",
    "general_qa_stub.synth_response(qa_request)"
   ],
   "metadata": {
    "collapsed": false,
    "pycharm": {
     "name": "#%%\n"
    }
   }
  },
  {
   "cell_type": "code",
   "execution_count": null,
   "outputs": [],
   "source": [
    "task_qa_stub = TaskQuestionAnsweringStub(channel_neural)\n",
    "\n",
    "qa_request: QARequest = QARequest()\n",
    "qa_request.query.text = \"How much flour do I need?\"\n",
    "\n",
    "task_qa_stub.synth_response(qa_request)"
   ],
   "metadata": {
    "collapsed": false,
    "pycharm": {
     "name": "#%%\n"
    }
   }
  },
  {
   "cell_type": "code",
   "execution_count": null,
   "outputs": [],
   "source": [
    "searcher = SearcherStub(channel_func)\n",
    "\n",
    "query = SearchQuery()\n",
    "query.last_utterance = \"pizza\"\n",
    "query.top_k = 3\n",
    "\n",
    "searcher.search_taskmap(query)"
   ],
   "metadata": {
    "collapsed": false,
    "pycharm": {
     "name": "#%%\n"
    }
   }
  }
 ],
 "metadata": {
  "kernelspec": {
   "display_name": "Python 3",
   "language": "python",
   "name": "python3"
  },
  "language_info": {
   "codemirror_mode": {
    "name": "ipython",
    "version": 3
   },
   "file_extension": ".py",
   "mimetype": "text/x-python",
   "name": "python",
   "nbconvert_exporter": "python",
   "pygments_lexer": "ipython3",
   "version": "3.6.9"
  }
 },
 "nbformat": 4,
 "nbformat_minor": 5
}